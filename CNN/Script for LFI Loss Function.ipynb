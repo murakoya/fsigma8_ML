{
 "cells": [
  {
   "cell_type": "code",
   "execution_count": 1,
   "metadata": {},
   "outputs": [],
   "source": [
    "#DEFINE LOSS FUNCTION\n",
    "#LFI Loss Function\n",
    "import torch.nn.functional as F\n",
    "import torch.nn as nn\n",
    "import torch.optim as optim\n",
    "import torch\n",
    "\n",
    "class LfiLoss(nn.Module):\n",
    "    def __init__(self):\n",
    "        super(LfiLoss, self).__init__()\n",
    "\n",
    "    def forward(self, inputs, targets):\n",
    "        # Calculate the LFI loss\n",
    "        diff = targets - inputs\n",
    "        diff_squared = torch.square(diff)\n",
    "        sum_diff_squared = torch.sum(diff_squared, dim=1)\n",
    "        loss = torch.log(torch.sum(sum_diff_squared)) + torch.log(torch.sum(torch.square(sum_diff_squared - torch.std(sum_diff_squared))))\n",
    "        return loss"
   ]
  },
  {
   "cell_type": "code",
   "execution_count": null,
   "metadata": {},
   "outputs": [],
   "source": []
  }
 ],
 "metadata": {
  "kernelspec": {
   "display_name": "Python 3",
   "language": "python",
   "name": "python3"
  },
  "language_info": {
   "codemirror_mode": {
    "name": "ipython",
    "version": 3
   },
   "file_extension": ".py",
   "mimetype": "text/x-python",
   "name": "python",
   "nbconvert_exporter": "python",
   "pygments_lexer": "ipython3",
   "version": "3.10.5"
  },
  "orig_nbformat": 4
 },
 "nbformat": 4,
 "nbformat_minor": 2
}
